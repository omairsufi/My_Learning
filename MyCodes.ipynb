{
  "nbformat": 4,
  "nbformat_minor": 0,
  "metadata": {
    "colab": {
      "provenance": [],
      "collapsed_sections": [],
      "authorship_tag": "ABX9TyOWALB67XOKQnJlH5P6CAmn",
      "include_colab_link": true
    },
    "kernelspec": {
      "name": "python3",
      "display_name": "Python 3"
    },
    "language_info": {
      "name": "python"
    }
  },
  "cells": [
    {
      "cell_type": "markdown",
      "metadata": {
        "id": "view-in-github",
        "colab_type": "text"
      },
      "source": [
        "<a href=\"https://colab.research.google.com/github/omairsufi/My_Learning/blob/main/MyCodes.ipynb\" target=\"_parent\"><img src=\"https://colab.research.google.com/assets/colab-badge.svg\" alt=\"Open In Colab\"/></a>"
      ]
    },
    {
      "cell_type": "code",
      "execution_count": null,
      "metadata": {
        "colab": {
          "base_uri": "https://localhost:8080/"
        },
        "id": "gOR1B9FOppk2",
        "outputId": "41aa2c0a-4733-41d1-80a9-f5ea9ac78ab1"
      },
      "outputs": [
        {
          "output_type": "stream",
          "name": "stdout",
          "text": [
            "   0  1  2\n",
            "0 [1, 2, 3]\n",
            "1 [4, 5, 6]\n",
            "2 [7, 8, 9]\n"
          ]
        }
      ],
      "source": [
        "game = [[1, 2, 3],\n",
        "        [4, 5, 6],\n",
        "        [7, 8, 9]]\n",
        "\n",
        "print(\"   0  1  2\")\n",
        "\n",
        "for count, row in enumerate(game):\n",
        "    print(count, row)\n",
        "\n",
        "def printgame(board):\n",
        "  print([1, 2, 3],\n",
        "        [4, 5, 6],\n",
        "        [7, 8, 9])\n",
        "  \n",
        "  def play():\n",
        "    turn = \"X\"\n",
        "    count = 0\n",
        "\n",
        "    for i in range(10):\n",
        "      printgame(game)\n",
        "      print(\"It's your turn,\"+ turn + \".Move to which place?\")\n",
        "\n",
        "      move = input()\n",
        "\n"
      ]
    },
    {
      "cell_type": "code",
      "source": [
        "theBoard = {'7': ' ' , '8': ' ' , '9': ' ' ,\n",
        "            '4': ' ' , '5': ' ' , '6': ' ' ,\n",
        "            '1': ' ' , '2': ' ' , '3': ' ' }\n",
        "\n",
        "board_keys = []\n",
        "\n",
        "for key in theBoard:\n",
        "    board_keys.append(key)\n",
        "\n",
        "''' We will have to print the updated board after every move in the game and \n",
        "    thus we will make a function in which we'll define the printBoard function\n",
        "    so that we can easily print the board everytime by calling this function. '''\n",
        "\n",
        "def printBoard(board):\n",
        "    print(board['1'] + '|' + board['2'] + '|' + board['3'])\n",
        "    print('-+-+-')\n",
        "    print(board['4'] + '|' + board['5'] + '|' + board['6'])\n",
        "    print('-+-+-')\n",
        "    print(board['7'] + '|' + board['8'] + '|' + board['9'])\n",
        "\n",
        "# Now we'll write the main function which has all the gameplay functionality.\n",
        "def game():\n",
        "\n",
        "    turn = 'X'\n",
        "    count = 0\n",
        "\n",
        "\n",
        "    for i in range(10):\n",
        "        printBoard(theBoard)\n",
        "        print(\"It's your turn,\" + turn + \".Move to which place?\")\n",
        "\n",
        "        move = input()        \n",
        "\n",
        "        if theBoard[move] == ' ':\n",
        "            theBoard[move] = turn\n",
        "            count += 1\n",
        "        else:\n",
        "            print(\"That place is already filled.\\nMove to which place?\")\n",
        "            continue\n",
        "\n",
        "        # Now we will check if player X or O has won,for every move after 5 moves. \n",
        "        if count >= 5:\n",
        "            if theBoard['7'] == theBoard['8'] == theBoard['9'] != ' ': # across the top\n",
        "                printBoard(theBoard)\n",
        "                print(\"\\nGame Over.\\n\")                \n",
        "                print(\" **** \" +turn + \" won. ****\")                \n",
        "                break\n",
        "            elif theBoard['4'] == theBoard['5'] == theBoard['6'] != ' ': # across the middle\n",
        "                printBoard(theBoard)\n",
        "                print(\"\\nGame Over.\\n\")                \n",
        "                print(\" **** \" +turn + \" won. ****\")\n",
        "                break\n",
        "            elif theBoard['1'] == theBoard['2'] == theBoard['3'] != ' ': # across the bottom\n",
        "                printBoard(theBoard)\n",
        "                print(\"\\nGame Over.\\n\")                \n",
        "                print(\" **** \" +turn + \" won. ****\")\n",
        "                break\n",
        "            elif theBoard['1'] == theBoard['4'] == theBoard['7'] != ' ': # down the left side\n",
        "                printBoard(theBoard)\n",
        "                print(\"\\nGame Over.\\n\")                \n",
        "                print(\" **** \" +turn + \" won. ****\")\n",
        "                break\n",
        "            elif theBoard['2'] == theBoard['5'] == theBoard['8'] != ' ': # down the middle\n",
        "                printBoard(theBoard)\n",
        "                print(\"\\nGame Over.\\n\")                \n",
        "                print(\" **** \" +turn + \" won. ****\")\n",
        "                break\n",
        "            elif theBoard['3'] == theBoard['6'] == theBoard['9'] != ' ': # down the right side\n",
        "                printBoard(theBoard)\n",
        "                print(\"\\nGame Over.\\n\")                \n",
        "                print(\" **** \" +turn + \" won. ****\")\n",
        "                break \n",
        "            elif theBoard['7'] == theBoard['5'] == theBoard['3'] != ' ': # diagonal\n",
        "                printBoard(theBoard)\n",
        "                print(\"\\nGame Over.\\n\")                \n",
        "                print(\" **** \" +turn + \" won. ****\")\n",
        "                break\n",
        "            elif theBoard['1'] == theBoard['5'] == theBoard['9'] != ' ': # diagonal\n",
        "                printBoard(theBoard)\n",
        "                print(\"\\nGame Over.\\n\")                \n",
        "                print(\" **** \" +turn + \" won. ****\")\n",
        "                break \n",
        "\n",
        "        # If neither X nor O wins and the board is full, we'll declare the result as 'tie'.\n",
        "        if count == 9:\n",
        "            print(\"\\nGame Over.\\n\")                \n",
        "            print(\"It's a Tie!!\")\n",
        "\n",
        "        # Now we have to change the player after every move.\n",
        "        if turn =='X':\n",
        "            turn = 'O'\n",
        "        else:\n",
        "            turn = 'X'        \n",
        "    \n",
        "    # Now we will ask if player wants to restart the game or not.\n",
        "    restart = input(\"Do want to play Again?(y/n)\")\n",
        "    if restart == \"y\" or restart == \"Y\":  \n",
        "        for key in board_keys:\n",
        "            theBoard[key] = \" \"\n",
        "\n",
        "        game()\n",
        "\n",
        "if __name__ == \"__main__\":\n",
        "    game()"
      ],
      "metadata": {
        "colab": {
          "base_uri": "https://localhost:8080/"
        },
        "id": "-WU9JS6py0pM",
        "outputId": "9e39d90a-db82-4fd9-d743-8be5908febc2"
      },
      "execution_count": null,
      "outputs": [
        {
          "name": "stdout",
          "output_type": "stream",
          "text": [
            " | | \n",
            "-+-+-\n",
            " | | \n",
            "-+-+-\n",
            " | | \n",
            "It's your turn,X.Move to which place?\n",
            "5\n",
            " | | \n",
            "-+-+-\n",
            " |X| \n",
            "-+-+-\n",
            " | | \n",
            "It's your turn,O.Move to which place?\n",
            "9\n",
            " | | \n",
            "-+-+-\n",
            " |X| \n",
            "-+-+-\n",
            " | |O\n",
            "It's your turn,X.Move to which place?\n",
            "3\n",
            " | |X\n",
            "-+-+-\n",
            " |X| \n",
            "-+-+-\n",
            " | |O\n",
            "It's your turn,O.Move to which place?\n",
            "7\n",
            " | |X\n",
            "-+-+-\n",
            " |X| \n",
            "-+-+-\n",
            "O| |O\n",
            "It's your turn,X.Move to which place?\n",
            "8\n",
            " | |X\n",
            "-+-+-\n",
            " |X| \n",
            "-+-+-\n",
            "O|X|O\n",
            "It's your turn,O.Move to which place?\n",
            "2\n",
            " |O|X\n",
            "-+-+-\n",
            " |X| \n",
            "-+-+-\n",
            "O|X|O\n",
            "It's your turn,X.Move to which place?\n",
            "1\n",
            "X|O|X\n",
            "-+-+-\n",
            " |X| \n",
            "-+-+-\n",
            "O|X|O\n",
            "It's your turn,O.Move to which place?\n",
            "4\n",
            "X|O|X\n",
            "-+-+-\n",
            "O|X| \n",
            "-+-+-\n",
            "O|X|O\n",
            "It's your turn,X.Move to which place?\n",
            "6\n",
            "\n",
            "Game Over.\n",
            "\n",
            "It's a Tie!!\n",
            "X|O|X\n",
            "-+-+-\n",
            "O|X|X\n",
            "-+-+-\n",
            "O|X|O\n",
            "It's your turn,O.Move to which place?\n",
            "3\n",
            "That place is already filled.\n",
            "Move to which place?\n",
            "Do want to play Again?(y/n)n\n"
          ]
        }
      ]
    },
    {
      "cell_type": "code",
      "source": [
        "import random\n",
        "\n",
        "print(\"Welcome to Tic Tac Toe.\")\n",
        "print(\"_______________________\")\n",
        "\n",
        "possibleNumbers = [1, 2, 3, 4, 5, 6, 7, 8, 9]\n",
        "gameBoard = [[1, 2, 3], [4, 5, 6], [7, 8, 9]]\n",
        "rows = 3\n",
        "column = 3\n",
        "\n",
        "def printgameBoard():\n",
        "  for x in range(rows):\n",
        "    print(\"\\n+---+---+---+\")\n",
        "    print(\"|\", end = \"\")\n",
        "    for y in range(column):\n",
        "      print(\"\", gameBoard[x][y], end = \" |\" )\n",
        "  print(\"\\n+---+---+---+\")\n",
        "\n",
        "def modifyArray(num, turn):\n",
        "  num -= 1\n",
        "  if (num == 0):\n",
        "    gameBoard[0][0] = turn\n",
        "  elif (num == 1):\n",
        "    gameBoard[0][1] = turn\n",
        "  elif (num == 2):\n",
        "    gameBoard[0][2] = turn\n",
        "  elif (num == 3):\n",
        "    gameBoard[1][0] = turn\n",
        "  elif (num == 4):\n",
        "    gameBoard[1][1] = turn\n",
        "  elif (num == 5):\n",
        "    gameBoard[1][2] = turn\n",
        "  elif (num == 6):\n",
        "    gameBoard[2][0] = turn\n",
        "  elif (num == 7):\n",
        "    gameBoard[2][1] = turn\n",
        "  elif (num == 8):\n",
        "    gameBoard[2][2] = turn\n",
        "\n",
        "def checkForWinner(gameBoard):\n",
        "  ### X axis\n",
        "  if(gameBoard[0][0] == 'X' and gameBoard[0][1] == 'X' and gameBoard[0][2] == 'X'):\n",
        "    print(\"X has won!\")\n",
        "    return \"X\"\n",
        "  elif(gameBoard[0][0] == 'O' and gameBoard[0][1] == 'O' and gameBoard[0][2] == 'O'):\n",
        "    print(\"O has won!\")\n",
        "    return \"O\"\n",
        "  elif(gameBoard[1][0] == 'X' and gameBoard[1][1] == 'X' and gameBoard[1][2] == 'X'):\n",
        "    print(\"X has won!\")\n",
        "    return \"X\"\n",
        "  elif(gameBoard[1][0] == 'O' and gameBoard[1][1] == 'O' and gameBoard[1][2] == 'O'):\n",
        "    print(\"O has won!\")\n",
        "    return \"O\"\n",
        "  elif(gameBoard[2][0] == 'X' and gameBoard[2][1] == 'X' and gameBoard[2][2] == 'X'):\n",
        "    print(\"X has won!\")\n",
        "    return \"X\"\n",
        "  elif(gameBoard[2][0] == 'O' and gameBoard[2][1] == 'O' and gameBoard[2][2] == 'O'):\n",
        "    print(\"O has won!\")\n",
        "    return \"O\"\n",
        "  ### Y axis\n",
        "  if(gameBoard[0][0] == 'X' and gameBoard[1][0] == 'X' and gameBoard[2][0] == 'X'):\n",
        "    print(\"X has won!\")\n",
        "    return \"X\"\n",
        "  elif(gameBoard[0][0] == 'O' and gameBoard[1][0] == 'O' and gameBoard[2][0] == 'O'):\n",
        "    print(\"O has won!\")\n",
        "    return \"O\"\n",
        "  elif(gameBoard[0][1] == 'X' and gameBoard[1][1] == 'X' and gameBoard[2][1] == 'X'):\n",
        "    print(\"X has won!\")\n",
        "    return \"X\"\n",
        "  elif(gameBoard[0][1] == 'O' and gameBoard[1][1] == 'O' and gameBoard[2][1] == 'O'):\n",
        "    print(\"O has won!\")\n",
        "    return \"O\"\n",
        "  elif(gameBoard[0][2] == 'X' and gameBoard[1][2] == 'X' and gameBoard[2][2] == 'X'):\n",
        "    print(\"X has won!\")\n",
        "    return \"X\"\n",
        "  elif(gameBoard[0][2] == 'O' and gameBoard[1][2] == 'O' and gameBoard[2][2] == 'O'):\n",
        "    print(\"O has won!\")\n",
        "    return \"O\"\n",
        "  ### Cross wins\n",
        "  elif(gameBoard[0][0] == 'X' and gameBoard[1][1] == 'X' and gameBoard[2][2] == 'X'):\n",
        "    print(\"X has won!\")\n",
        "    return \"X\"\n",
        "  elif(gameBoard[0][0] == 'O' and gameBoard[1][1] == 'O' and gameBoard[2][2] == 'O'):\n",
        "    print(\"O has won!\")  \n",
        "    return \"O\"\n",
        "  elif(gameBoard[0][2] == 'X' and gameBoard[1][1] == 'X' and gameBoard[2][0] == 'X'):\n",
        "    print(\"X has won!\")  \n",
        "    return \"X\"\n",
        "  elif(gameBoard[0][2] == 'O' and gameBoard[1][1] == 'O' and gameBoard[2][0] == 'O'):\n",
        "    print(\"O has won!\") \n",
        "    return \"O\" \n",
        "  else:\n",
        "    return \"N\"\n",
        "\n",
        "\n",
        "leaveLoop = False\n",
        "turnCounter = 0\n",
        "\n",
        "while(leaveLoop == False):\n",
        "  ###It's the player turn\n",
        "  if (turnCounter % 2 == 1):\n",
        "    printgameBoard()\n",
        "    numberPicked = int(input(\"\\nChoose a number [1 - 9]: \"))\n",
        "    if (numberPicked >= 1 or numberPicked <= 9):\n",
        "      modifyArray(numberPicked, \"X\")\n",
        "      possibleNumbers.remove(numberPicked)\n",
        "    else:\n",
        "      print(\"Invalid input, please try again...\")\n",
        "    turnCounter += 1\n",
        "    \n",
        "  ###It's the computer's turn\n",
        "  else:\n",
        "    while(True):\n",
        "      cpuChoice = random.choice(possibleNumbers)\n",
        "      print(\"\\nCPU Choice:\", cpuChoice)\n",
        "      if (cpuChoice in possibleNumbers):\n",
        "        modifyArray(cpuChoice, \"O\")\n",
        "        possibleNumbers.remove(cpuChoice)\n",
        "        turnCounter += 1\n",
        "        break\n",
        "\n",
        "  winner = checkForWinner(gameBoard)\n",
        "  if(winner != \"N\"):\n",
        "    print(\"\\nGame over! Thank you for playing :)\")\n",
        "    break"
      ],
      "metadata": {
        "colab": {
          "base_uri": "https://localhost:8080/"
        },
        "id": "FIt7yxse5wM1",
        "outputId": "8f85f524-61cb-475a-965c-b1fd1d62887a"
      },
      "execution_count": null,
      "outputs": [
        {
          "output_type": "stream",
          "name": "stdout",
          "text": [
            "Welcome to Tic Tac Toe.\n",
            "_______________________\n",
            "\n",
            "CPU Choice: 9\n",
            "\n",
            "+---+---+---+\n",
            "| 1 | 2 | 3 |\n",
            "+---+---+---+\n",
            "| 4 | 5 | 6 |\n",
            "+---+---+---+\n",
            "| 7 | 8 | O |\n",
            "+---+---+---+\n",
            "\n",
            "Choose a number [1 - 9]: 3\n",
            "\n",
            "CPU Choice: 5\n",
            "\n",
            "+---+---+---+\n",
            "| 1 | 2 | X |\n",
            "+---+---+---+\n",
            "| 4 | O | 6 |\n",
            "+---+---+---+\n",
            "| 7 | 8 | O |\n",
            "+---+---+---+\n",
            "\n",
            "Choose a number [1 - 9]: 1\n",
            "\n",
            "CPU Choice: 8\n",
            "\n",
            "+---+---+---+\n",
            "| X | 2 | X |\n",
            "+---+---+---+\n",
            "| 4 | O | 6 |\n",
            "+---+---+---+\n",
            "| 7 | O | O |\n",
            "+---+---+---+\n",
            "\n",
            "Choose a number [1 - 9]: 2\n",
            "X has won!\n",
            "\n",
            "Game over! Thank you for playing :)\n"
          ]
        }
      ]
    },
    {
      "cell_type": "code",
      "source": [
        "mark = \"True\"\n",
        "\n",
        "while mark == \"True\":\n",
        " mark = int (input(\"Please enter your mark: \"))\n",
        " if mark >70:\n",
        "  print(\"You have passed with Distinction\")\n",
        " elif mark >=40 and mark <=70:\n",
        "  print(\"You have Passed\")\n",
        " else:\n",
        "   print(\"You have Failed\")\n",
        " mark = input(\"Would you like to enter another mark? (True or False): \")"
      ],
      "metadata": {
        "colab": {
          "base_uri": "https://localhost:8080/"
        },
        "id": "2ICVJRJeR9en",
        "outputId": "9c7dd742-fc91-46b4-919f-1cc516631730"
      },
      "execution_count": null,
      "outputs": [
        {
          "name": "stdout",
          "output_type": "stream",
          "text": [
            "Please enter your mark: 55\n",
            "You have Passed\n",
            "Would you like to enter another mark? (True or False): True\n",
            "Please enter your mark: 55\n",
            "You have Passed\n",
            "Would you like to enter another mark? (True or False): False\n"
          ]
        }
      ]
    },
    {
      "cell_type": "code",
      "source": [
        "Pi = math.pi\n",
        "Radius = int(input(\"What is the radius of circle\"))\n",
        "\n",
        "Area_of_circle = Pi * Radius ** 2\n",
        "\n",
        "print((\"Area of Circle\"), Area_of_circle)"
      ],
      "metadata": {
        "colab": {
          "base_uri": "https://localhost:8080/"
        },
        "id": "xPP9-UxQWT2C",
        "outputId": "d4757daa-ec65-48ee-9241-a4cc1188154b"
      },
      "execution_count": null,
      "outputs": [
        {
          "output_type": "stream",
          "name": "stdout",
          "text": [
            "What is the radius of circle2\n",
            "Area of Circle 12.566370614359172\n"
          ]
        }
      ]
    },
    {
      "cell_type": "code",
      "source": [
        "Days = int(input(\"Number of Days: \"))\n",
        "\n",
        "Years = Days // 365\n",
        "weeks = (Days % 365) // 7\n",
        "Days = Days - ((Years * 365) + (weeks * 7))\n",
        "\n",
        "print((\"Years\"), Years)\n",
        "print((\"Weeks\"), weeks)\n",
        "print((\"Days\"), Days)"
      ],
      "metadata": {
        "colab": {
          "base_uri": "https://localhost:8080/"
        },
        "id": "YqSXQfVUeJps",
        "outputId": "78c3177d-78d2-49e7-f976-02dc454485e7"
      },
      "execution_count": null,
      "outputs": [
        {
          "output_type": "stream",
          "name": "stdout",
          "text": [
            "Number of Days: 5250\n",
            "Years 14\n",
            "Weeks 20\n",
            "Days 0\n"
          ]
        }
      ]
    },
    {
      "cell_type": "code",
      "source": [
        "Age = int(input(\"Please enter Age:\"))\n",
        "\n",
        "Age_in_10_years = Age + 10\n",
        "Age_10_years_ago = Age - 10\n",
        "\n",
        "print((\"Age in 10 years\"), Age_in_10_years)\n",
        "print((\"Age 10 years ago\"), Age_10_years_ago)"
      ],
      "metadata": {
        "colab": {
          "base_uri": "https://localhost:8080/"
        },
        "id": "xkns4Jp6akOz",
        "outputId": "bc854d0c-b885-431e-9880-62d7df1ca76a"
      },
      "execution_count": null,
      "outputs": [
        {
          "output_type": "stream",
          "name": "stdout",
          "text": [
            "Please enter Age:76\n",
            "Age in 10 years 86\n",
            "Age 10 years ago 66\n"
          ]
        }
      ]
    },
    {
      "cell_type": "code",
      "source": [
        "pie = 3.14\n",
        "f\"I ate some {pie} and it was yummy!\"\n",
        "\n",
        "number = 7\n",
        "f\"{number + 1} is just a number\"\n",
        "\n",
        "Fruit = \"Apple\"\n",
        "\" I love {}\" .format(Fruit)"
      ],
      "metadata": {
        "colab": {
          "base_uri": "https://localhost:8080/",
          "height": 35
        },
        "id": "hA4fQOulrOoL",
        "outputId": "cab133e1-0f41-45e3-dd6e-187c69e96b76"
      },
      "execution_count": null,
      "outputs": [
        {
          "output_type": "execute_result",
          "data": {
            "text/plain": [
              "' I love Apple'"
            ],
            "application/vnd.google.colaboratory.intrinsic+json": {
              "type": "string"
            }
          },
          "metadata": {},
          "execution_count": 5
        }
      ]
    },
    {
      "cell_type": "code",
      "source": [
        "import math\n",
        "print(f'The value of pie is {math.pi:.2f}.')"
      ],
      "metadata": {
        "colab": {
          "base_uri": "https://localhost:8080/"
        },
        "id": "XxQEegli8peD",
        "outputId": "cd8d8f2d-7bcc-441c-f581-0ef1f1cb49cf"
      },
      "execution_count": null,
      "outputs": [
        {
          "output_type": "stream",
          "name": "stdout",
          "text": [
            "The value of pie is 3.14.\n"
          ]
        }
      ]
    },
    {
      "cell_type": "code",
      "source": [
        "year= 1994; name= \"Omair\"\n",
        "f\"{name} was born in {year}\""
      ],
      "metadata": {
        "colab": {
          "base_uri": "https://localhost:8080/",
          "height": 35
        },
        "id": "WMwh1OeAG71Q",
        "outputId": "d058a00d-be01-43b3-9d33-1217dc8a1def"
      },
      "execution_count": null,
      "outputs": [
        {
          "output_type": "execute_result",
          "data": {
            "text/plain": [
              "'Omair was born in 1994'"
            ],
            "application/vnd.google.colaboratory.intrinsic+json": {
              "type": "string"
            }
          },
          "metadata": {},
          "execution_count": 8
        }
      ]
    },
    {
      "cell_type": "code",
      "source": [
        "function hideRows() {\n",
        "    var ss = SpreadsheetApp.getActiveSpreadsheet();\n",
        "    var s = ss.getSheetByName(\"Tickets\");\n",
        "    var v = s.getRange(\"B:B\").getValues();\n",
        "    var today = new Date();\n",
        "    today.setHours(0, 3, 0, 0);\n",
        "    for (var i = s.getLastRow(); i > 2; i--) {\n",
        "        var t = v[i - 1];\n",
        "        if (t != \"\") {\n",
        "            var u = new Date(t);\n",
        "            if (u < today) {\n",
        "                s.hideRows(i);\n",
        "            }\n",
        "        }\n",
        "    }\n",
        "}"
      ],
      "metadata": {
        "id": "72mPq6W35Dq_",
        "colab": {
          "base_uri": "https://localhost:8080/",
          "height": 130
        },
        "outputId": "5f198f5a-050c-4fb2-cb80-874f66ef8d3c"
      },
      "execution_count": null,
      "outputs": [
        {
          "output_type": "error",
          "ename": "SyntaxError",
          "evalue": "ignored",
          "traceback": [
            "\u001b[0;36m  File \u001b[0;32m\"<ipython-input-1-9cfbf0b080b3>\"\u001b[0;36m, line \u001b[0;32m1\u001b[0m\n\u001b[0;31m    function hideRows() {\u001b[0m\n\u001b[0m                    ^\u001b[0m\n\u001b[0;31mSyntaxError\u001b[0m\u001b[0;31m:\u001b[0m invalid syntax\n"
          ]
        }
      ]
    },
    {
      "cell_type": "code",
      "source": [
        "user_pass = \"random\"\n",
        "valid = False\n",
        "while not valid:\n",
        "   password = input(\"Please enter your password: \")\n",
        "   if password == user_pass:\n",
        "     print(\"Welcome back, User\")\n",
        "     valid = True\n",
        "   else:\n",
        "     print(\"incorrect password. Try again...\")"
      ],
      "metadata": {
        "colab": {
          "base_uri": "https://localhost:8080/"
        },
        "id": "Dza0jpWZd-O1",
        "outputId": "f20fae2e-1ae9-4397-d4d1-8af4d56c5875"
      },
      "execution_count": null,
      "outputs": [
        {
          "output_type": "stream",
          "name": "stdout",
          "text": [
            "Please enter your password: random\n",
            "Welcome back, User\n"
          ]
        }
      ]
    },
    {
      "cell_type": "code",
      "source": [
        "total = 0\n",
        "\n",
        "for num in range(2, 101, 2):\n",
        "  total += num\n",
        "  \n",
        "print(total) "
      ],
      "metadata": {
        "colab": {
          "base_uri": "https://localhost:8080/"
        },
        "id": "JFWbGRVclwir",
        "outputId": "b5527a43-93c4-40dc-a2d9-d32292dc51e8"
      },
      "execution_count": null,
      "outputs": [
        {
          "output_type": "stream",
          "name": "stdout",
          "text": [
            "2550\n"
          ]
        }
      ]
    },
    {
      "cell_type": "code",
      "source": [
        "for even in range(2, 11, 2):\n",
        "  for odd in range(1, 11, 2):\n",
        "    val = even + odd \n",
        "    print(even, \"+\", odd, \"=\", val)"
      ],
      "metadata": {
        "colab": {
          "base_uri": "https://localhost:8080/"
        },
        "id": "k9sH6fOZ2M7P",
        "outputId": "ebcf6f9a-26a2-49fe-d171-c5b4beafdf41"
      },
      "execution_count": null,
      "outputs": [
        {
          "output_type": "stream",
          "name": "stdout",
          "text": [
            "2 + 1 = 3\n",
            "2 + 3 = 5\n",
            "2 + 5 = 7\n",
            "2 + 7 = 9\n",
            "2 + 9 = 11\n",
            "4 + 1 = 5\n",
            "4 + 3 = 7\n",
            "4 + 5 = 9\n",
            "4 + 7 = 11\n",
            "4 + 9 = 13\n",
            "6 + 1 = 7\n",
            "6 + 3 = 9\n",
            "6 + 5 = 11\n",
            "6 + 7 = 13\n",
            "6 + 9 = 15\n",
            "8 + 1 = 9\n",
            "8 + 3 = 11\n",
            "8 + 5 = 13\n",
            "8 + 7 = 15\n",
            "8 + 9 = 17\n",
            "10 + 1 = 11\n",
            "10 + 3 = 13\n",
            "10 + 5 = 15\n",
            "10 + 7 = 17\n",
            "10 + 9 = 19\n"
          ]
        }
      ]
    },
    {
      "cell_type": "code",
      "source": [
        "for number in range(0, 25):\n",
        "  if number == 0:\n",
        "    continue\n",
        "  elif number % 3 != 0:\n",
        "    continue\n",
        "  elif type(number) != int:\n",
        "    continue\n",
        "  else:\n",
        "    pass\n",
        "  print(number)"
      ],
      "metadata": {
        "colab": {
          "base_uri": "https://localhost:8080/"
        },
        "id": "oC7RRiM_hQLF",
        "outputId": "8e7a6678-0632-436f-e06e-8d0e41711719"
      },
      "execution_count": null,
      "outputs": [
        {
          "output_type": "stream",
          "name": "stdout",
          "text": [
            "3\n",
            "6\n",
            "9\n",
            "12\n",
            "15\n",
            "18\n",
            "21\n",
            "24\n"
          ]
        }
      ]
    },
    {
      "cell_type": "code",
      "source": [
        "import random\n",
        "correct = 0\n",
        "\n",
        "for _ in range(20):\n",
        "  a = random.randint(0,20)\n",
        "  b = random.randint(0,20)\n",
        "  d = a + b\n",
        "  print(a, \"+\", b, \"=\")\n",
        "  r = int(input())\n",
        "\n",
        "  if r == d:\n",
        "    print(\"Correct Answer!\")\n",
        "  else:\n",
        "    print(\"Try Again....\")\n",
        "\n",
        "  max_correct = 5\n",
        "  if correct < max_correct:\n",
        "    correct += 1\n",
        "    continue\n",
        "  elif correct == max_correct:\n",
        "    print(\"Congratulations, 5 questions answered correctly!!!\")\n",
        "    break"
      ],
      "metadata": {
        "id": "hfwEq5VTmr8j",
        "colab": {
          "base_uri": "https://localhost:8080/"
        },
        "outputId": "fb64e9d3-26d3-4332-adb3-094b88188f05"
      },
      "execution_count": null,
      "outputs": [
        {
          "output_type": "stream",
          "name": "stdout",
          "text": [
            "5 + 20 =\n",
            "25\n",
            "Correct Answer!\n",
            "15 + 11 =\n",
            "26\n",
            "Correct Answer!\n",
            "7 + 13 =\n",
            "20\n",
            "Correct Answer!\n",
            "3 + 18 =\n",
            "21\n",
            "Correct Answer!\n",
            "2 + 1 =\n",
            "3\n",
            "Correct Answer!\n",
            "12 + 14 =\n",
            "26\n",
            "Correct Answer!\n",
            "Congratulations, 5 questions answered correctly!!!\n"
          ]
        }
      ]
    }
  ]
}